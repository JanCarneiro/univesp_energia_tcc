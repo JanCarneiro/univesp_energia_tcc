{
 "cells": [
  {
   "cell_type": "code",
   "execution_count": null,
   "metadata": {},
   "outputs": [],
   "source": [
    "import os"
   ]
  },
  {
   "cell_type": "code",
   "execution_count": null,
   "metadata": {},
   "outputs": [],
   "source": [
    "%run \"/home/jan/Documentos/tcc/dependencias/conn_spark.py\"\n",
    "\n",
    "spark = cria_conn(\"gold\")"
   ]
  },
  {
   "cell_type": "code",
   "execution_count": null,
   "metadata": {},
   "outputs": [],
   "source": [
    "path_base = '/home/jan/Documentos/tcc/datasets/prata/CONSUMO_ENERGIA'\n",
    "arquivos = os.listdir(path_base)\n",
    "\n",
    "for arquivo in arquivos:\n",
    "    df = spark.read.parquet(f'{path_base}/{arquivo}')\n",
    "    df.createOrReplaceTempView(f'{arquivo.replace(\".parquet\",\"\")}')\n",
    "\n",
    "    print(f\"Criado view temporária do arquivo: {arquivo}\")"
   ]
  },
  {
   "cell_type": "code",
   "execution_count": null,
   "metadata": {},
   "outputs": [],
   "source": [
    "case_competencia = \"\"\"CONCAT(t1.ano, '-', \n",
    "         CASE \n",
    "           WHEN t1.mes = 'JAN' THEN '01'\n",
    "           WHEN t1.mes = 'FEV' THEN '02'\n",
    "           WHEN t1.mes = 'MAR' THEN '03'\n",
    "           WHEN t1.mes = 'ABR' THEN '04'\n",
    "           WHEN t1.mes = 'MAI' THEN '05'\n",
    "           WHEN t1.mes = 'JUN' THEN '06'\n",
    "           WHEN t1.mes = 'JUL' THEN '07'\n",
    "           WHEN t1.mes = 'AGO' THEN '08'\n",
    "           WHEN t1.mes = 'SET' THEN '09'\n",
    "           WHEN t1.mes = 'OUT' THEN '10'\n",
    "           WHEN t1.mes = 'NOV' THEN '11'\n",
    "           WHEN t1.mes = 'DEZ' THEN '12'\n",
    "         END, '-01')\"\"\""
   ]
  },
  {
   "cell_type": "code",
   "execution_count": null,
   "metadata": {},
   "outputs": [],
   "source": [
    "fato = spark.sql(f\"\"\"\n",
    "        SELECT \n",
    "                {case_competencia} AS dt_Competencia, \n",
    "                CAST(t1.consumo_total AS INTEGER) AS total_consumoMWh,\n",
    "                CAST(t2.consumo_total AS INTEGER) AS total_consumoCativoMWh,\n",
    "                CAST(t3.consumo_total AS INTEGER) AS total_consumoLivreMWh,\n",
    "                CAST(t4.consumo_total AS INTEGER) AS total_consumoResidencialMWh,\n",
    "                CAST(t5.consumo_total AS INTEGER) AS total_consumoIndustrialMWh,\n",
    "                CAST(t6.consumo_total AS INTEGER) AS total_consumoComercialMWh,\n",
    "                CAST(t7.consumo_total AS INTEGER) AS total_consumoOutrosMWh,\n",
    "                CAST(t8.consumo_total AS INTEGER) AS total_consumidoresResidencialMWh,\n",
    "                CAST(t9.consumo_total AS INTEGER) AS total_consumidoresIndustriaisMWh,\n",
    "                CAST(t10.consumo_total AS INTEGER) AS total_consumidoresComerciaisMWh,\n",
    "                CAST(t11.consumo_total AS INTEGER) AS total_consumidoresOutrosMWh,\n",
    "                CAST(t12.consumo_total AS INTEGER) AS total_consumidoresCativosMWh,\n",
    "                CAST(t13.consumo_total AS INTEGER) AS total_consumidoresLivresMWh      \n",
    "        FROM CONSUMO_POR_UF t1\n",
    "        LEFT JOIN CONSUMO_CATIVO_POR_UF t2 ON {case_competencia.replace('t1', 't2')} = {case_competencia}\n",
    "        LEFT JOIN CONSUMO_LIVRE_POR_UF t3 ON {case_competencia.replace('t1', 't3')} = {case_competencia}\n",
    "        LEFT JOIN CONSUMO_RESIDENCIAL_POR_UF t4 ON {case_competencia.replace('t1', 't4')} = {case_competencia}\n",
    "        LEFT JOIN CONSUMO_INDUSTRIAL_POR_UF t5 ON {case_competencia.replace('t1', 't5')} = {case_competencia}\n",
    "        LEFT JOIN CONSUMO_COMERCIAL_POR_UF t6 ON {case_competencia.replace('t1', 't6')} = {case_competencia}\n",
    "        LEFT JOIN CONSUMO_OUTROS_POR_UF t7 ON {case_competencia.replace('t1', 't7')} = {case_competencia}\n",
    "        LEFT JOIN CONSUMIDORES_RES_POR_UF t8 ON {case_competencia.replace('t1', 't8')} = {case_competencia}\n",
    "        LEFT JOIN CONSUMIDORES_INDUSTRIAIS_POR_UF t9 ON {case_competencia.replace('t1', 't9')} = {case_competencia}\n",
    "        LEFT JOIN CONSUMIDORES_COMERCIAIS_POR_UF t10 ON {case_competencia.replace('t1', 't10')} = {case_competencia}\n",
    "        LEFT JOIN CONSUMIDORES_OUTROS_POR_UF t11 ON {case_competencia.replace('t1', 't11')} = {case_competencia}\n",
    "        LEFT JOIN CONSUMIDORES_CATIVOS_POR_UF t12 ON {case_competencia.replace('t1', 't12')} = {case_competencia}\n",
    "        LEFT JOIN CONSUMIDORES_LIVRES_POR_UF t13 ON {case_competencia.replace('t1', 't13')} = {case_competencia}\n",
    "        WHERE {case_competencia} IS NOT NULL AND YEAR({case_competencia}) < 2025\n",
    "        order by dt_competencia asc\n",
    "\"\"\")\n",
    "\n",
    "fato.show()"
   ]
  },
  {
   "cell_type": "code",
   "execution_count": null,
   "metadata": {},
   "outputs": [],
   "source": [
    "path_gold = '/home/jan/Documentos/tcc/datasets/gold'\n",
    "\n",
    "os.makedirs(path_gold, exist_ok=True)\n",
    "\n",
    "fato.toPandas().to_csv(f'{path_gold}/CONSUMO_ENERGIA.csv')"
   ]
  },
  {
   "cell_type": "code",
   "execution_count": null,
   "metadata": {},
   "outputs": [],
   "source": [
    "spark.stop()"
   ]
  }
 ],
 "metadata": {
  "kernelspec": {
   "display_name": ".venv",
   "language": "python",
   "name": "python3"
  },
  "language_info": {
   "codemirror_mode": {
    "name": "ipython",
    "version": 3
   },
   "file_extension": ".py",
   "mimetype": "text/x-python",
   "name": "python",
   "nbconvert_exporter": "python",
   "pygments_lexer": "ipython3",
   "version": "3.10.12"
  }
 },
 "nbformat": 4,
 "nbformat_minor": 2
}
