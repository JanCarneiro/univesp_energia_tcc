{
 "cells": [
  {
   "cell_type": "code",
   "execution_count": null,
   "metadata": {},
   "outputs": [],
   "source": [
    "%run \"/home/jan/Documentos/tcc/dependencias/conn_spark.py\"\n",
    "\n",
    "spark = cria_conn(\"gold\")"
   ]
  },
  {
   "cell_type": "code",
   "execution_count": null,
   "metadata": {},
   "outputs": [],
   "source": [
    "import os"
   ]
  },
  {
   "cell_type": "code",
   "execution_count": null,
   "metadata": {},
   "outputs": [],
   "source": [
    "path_arquivo = f'/home/jan/Documentos/tcc/datasets/prata/CARGA_ENERGIA/CARGA_ENERGIA_consolidada.parquet'\n",
    "df = spark.read.parquet(path_arquivo)"
   ]
  },
  {
   "cell_type": "code",
   "execution_count": null,
   "metadata": {},
   "outputs": [],
   "source": [
    "df.show()"
   ]
  },
  {
   "cell_type": "code",
   "execution_count": null,
   "metadata": {},
   "outputs": [],
   "source": [
    "df.createOrReplaceTempView(\"tb_carga_energia\")"
   ]
  },
  {
   "cell_type": "code",
   "execution_count": null,
   "metadata": {},
   "outputs": [],
   "source": [
    "df_tratado = spark.sql(\"\"\"\n",
    "            SELECT \n",
    "                din_instante as dt_referencia,\n",
    "                id_subsistema as sigla_regiao,\n",
    "                nom_subsistema as nm_regiao,\n",
    "                CAST(val_cargaenergiamwmed as DECIMAL(10,2)) as vl_cargaEnergiaMWmed\n",
    "            FROM tb_carga_energia\n",
    "            WHERE nom_subsistema like '%Sudeste%' AND val_cargaenergiamwmed <> '0E-8' \n",
    "                    \"\"\")"
   ]
  },
  {
   "cell_type": "code",
   "execution_count": null,
   "metadata": {},
   "outputs": [],
   "source": [
    "path_gold = '/home/jan/Documentos/tcc/datasets/gold/'\n",
    "\n",
    "os.makedirs(path_gold, exist_ok=True)"
   ]
  },
  {
   "cell_type": "code",
   "execution_count": null,
   "metadata": {},
   "outputs": [],
   "source": [
    "df_tratado.toPandas().to_csv(f'{path_gold}/CARGA_ENERGIA.csv')"
   ]
  },
  {
   "cell_type": "code",
   "execution_count": null,
   "metadata": {},
   "outputs": [],
   "source": [
    "spark.stop()"
   ]
  }
 ],
 "metadata": {
  "kernelspec": {
   "display_name": ".venv",
   "language": "python",
   "name": "python3"
  },
  "language_info": {
   "codemirror_mode": {
    "name": "ipython",
    "version": 3
   },
   "file_extension": ".py",
   "mimetype": "text/x-python",
   "name": "python",
   "nbconvert_exporter": "python",
   "pygments_lexer": "ipython3",
   "version": "3.10.12"
  }
 },
 "nbformat": 4,
 "nbformat_minor": 2
}
