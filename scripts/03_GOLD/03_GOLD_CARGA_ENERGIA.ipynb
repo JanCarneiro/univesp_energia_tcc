{
 "cells": [
  {
   "cell_type": "code",
   "execution_count": 1,
   "metadata": {},
   "outputs": [
    {
     "name": "stderr",
     "output_type": "stream",
     "text": [
      "your 131072x1 screen size is bogus. expect trouble\n",
      "25/03/07 20:10:16 WARN Utils: Your hostname, DESKTOP-RE2QNUL resolves to a loopback address: 127.0.1.1; using 172.21.253.66 instead (on interface eth0)\n",
      "25/03/07 20:10:16 WARN Utils: Set SPARK_LOCAL_IP if you need to bind to another address\n",
      "Setting default log level to \"WARN\".\n",
      "To adjust logging level use sc.setLogLevel(newLevel). For SparkR, use setLogLevel(newLevel).\n",
      "25/03/07 20:10:21 WARN NativeCodeLoader: Unable to load native-hadoop library for your platform... using builtin-java classes where applicable\n"
     ]
    }
   ],
   "source": [
    "%run \"/home/jan/Documentos/tcc/dependencias/conn_spark.py\"\n",
    "\n",
    "spark = cria_conn(\"gold\")"
   ]
  },
  {
   "cell_type": "code",
   "execution_count": 2,
   "metadata": {},
   "outputs": [],
   "source": [
    "import os"
   ]
  },
  {
   "cell_type": "code",
   "execution_count": 3,
   "metadata": {},
   "outputs": [],
   "source": [
    "path_arquivo = f'/home/jan/Documentos/tcc/datasets/prata/CARGA_ENERGIA/CARGA_ENERGIA_consolidada.parquet'\n",
    "df = spark.read.parquet(path_arquivo)"
   ]
  },
  {
   "cell_type": "code",
   "execution_count": 4,
   "metadata": {},
   "outputs": [
    {
     "name": "stdout",
     "output_type": "stream",
     "text": [
      "+-------------+--------------------+-------------------+---------------------+\n",
      "|id_subsistema|      nom_subsistema|       din_instante|val_cargaenergiamwmed|\n",
      "+-------------+--------------------+-------------------+---------------------+\n",
      "|            N|               Norte|2013-12-31 22:00:00|        4629.20687500|\n",
      "|           NE|            Nordeste|2013-12-31 22:00:00|        8104.89916667|\n",
      "|            S|                 Sul|2013-12-31 22:00:00|        8451.91411621|\n",
      "|           SE|Sudeste/Centro-Oeste|2013-12-31 22:00:00|       29770.29600000|\n",
      "|            N|               Norte|2014-01-01 22:00:00|        5204.65166667|\n",
      "|           NE|            Nordeste|2014-01-01 22:00:00|        9428.02975000|\n",
      "|            S|                 Sul|2014-01-01 22:00:00|       10377.18163413|\n",
      "|           SE|Sudeste/Centro-Oeste|2014-01-01 22:00:00|       36565.28716667|\n",
      "|            N|               Norte|2014-01-02 22:00:00|        5394.63495833|\n",
      "|           NE|            Nordeste|2014-01-02 22:00:00|        9742.56737500|\n",
      "|            S|                 Sul|2014-01-02 22:00:00|       10431.45081108|\n",
      "|           SE|Sudeste/Centro-Oeste|2014-01-02 22:00:00|       38299.72962500|\n",
      "|            N|               Norte|2014-01-03 22:00:00|        5255.96941667|\n",
      "|           NE|            Nordeste|2014-01-03 22:00:00|        9437.88900000|\n",
      "|            S|                 Sul|2014-01-03 22:00:00|        9028.46095529|\n",
      "|           SE|Sudeste/Centro-Oeste|2014-01-03 22:00:00|       36274.28254167|\n",
      "|            N|               Norte|2014-01-04 22:00:00|        4979.70170833|\n",
      "|           NE|            Nordeste|2014-01-04 22:00:00|        8863.98825000|\n",
      "|            S|                 Sul|2014-01-04 22:00:00|        8201.22820500|\n",
      "|           SE|Sudeste/Centro-Oeste|2014-01-04 22:00:00|       32948.99912500|\n",
      "+-------------+--------------------+-------------------+---------------------+\n",
      "only showing top 20 rows\n",
      "\n"
     ]
    }
   ],
   "source": [
    "df.show()"
   ]
  },
  {
   "cell_type": "code",
   "execution_count": 5,
   "metadata": {},
   "outputs": [],
   "source": [
    "df.createOrReplaceTempView(\"tb_carga_energia\")"
   ]
  },
  {
   "cell_type": "code",
   "execution_count": 20,
   "metadata": {},
   "outputs": [],
   "source": [
    "df_tratado = spark.sql(\"\"\"\n",
    "            SELECT \n",
    "                din_instante as dt_referencia,\n",
    "                id_subsistema as sigla_regiao,\n",
    "                nom_subsistema as nm_regiao,\n",
    "                CAST(val_cargaenergiamwmed as DECIMAL(10,2)) as vl_cargaEnergiaMWmed\n",
    "            FROM tb_carga_energia\n",
    "            WHERE nom_subsistema like '%Sudeste%' AND val_cargaenergiamwmed <> '0E-8' \n",
    "                    \"\"\")"
   ]
  },
  {
   "cell_type": "code",
   "execution_count": 21,
   "metadata": {},
   "outputs": [],
   "source": [
    "path_gold = '/home/jan/Documentos/tcc/datasets/gold/'\n",
    "\n",
    "os.makedirs(path_gold, exist_ok=True)"
   ]
  },
  {
   "cell_type": "code",
   "execution_count": 22,
   "metadata": {},
   "outputs": [],
   "source": [
    "df_tratado.toPandas().to_csv(f'{path_gold}/CARGA_ENERGIA.csv')"
   ]
  },
  {
   "cell_type": "code",
   "execution_count": 23,
   "metadata": {},
   "outputs": [],
   "source": [
    "spark.stop()"
   ]
  }
 ],
 "metadata": {
  "kernelspec": {
   "display_name": ".venv",
   "language": "python",
   "name": "python3"
  },
  "language_info": {
   "codemirror_mode": {
    "name": "ipython",
    "version": 3
   },
   "file_extension": ".py",
   "mimetype": "text/x-python",
   "name": "python",
   "nbconvert_exporter": "python",
   "pygments_lexer": "ipython3",
   "version": "3.10.12"
  }
 },
 "nbformat": 4,
 "nbformat_minor": 2
}
