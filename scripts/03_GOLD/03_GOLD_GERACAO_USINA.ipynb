{
 "cells": [
  {
   "cell_type": "code",
   "execution_count": null,
   "metadata": {},
   "outputs": [],
   "source": [
    "%run \"/home/jan/Documentos/tcc/dependencias/conn_spark.py\"\n",
    "\n",
    "spark = cria_conn(\"gold\")"
   ]
  },
  {
   "cell_type": "code",
   "execution_count": null,
   "metadata": {},
   "outputs": [],
   "source": [
    "import os"
   ]
  },
  {
   "cell_type": "code",
   "execution_count": null,
   "metadata": {},
   "outputs": [],
   "source": [
    "path_arquivo = f'/home/jan/Documentos/tcc/datasets/prata/GERACAO_USINA/GERACAO_USINA_consolidada.parquet'\n",
    "df = spark.read.parquet(path_arquivo)"
   ]
  },
  {
   "cell_type": "code",
   "execution_count": null,
   "metadata": {},
   "outputs": [],
   "source": [
    "df.createOrReplaceTempView(\"tb_geracao_usina\")"
   ]
  },
  {
   "cell_type": "code",
   "execution_count": null,
   "metadata": {},
   "outputs": [],
   "source": [
    "df.show()"
   ]
  },
  {
   "cell_type": "code",
   "execution_count": null,
   "metadata": {},
   "outputs": [],
   "source": [
    "df_tratado = spark.sql(\"\"\"\n",
    "            SELECT \n",
    "                din_instante as dt_referencia,\n",
    "                id_subsistema as sigla_regiao,\n",
    "                nom_subsistema as nm_regiao,\n",
    "                id_estado as sigla_estado,\n",
    "                nom_estado as nm_estado,\n",
    "                nom_tipousina as nm_tipoUsina,\n",
    "                nom_tipocombustivel as nm_tipoCombustivel,\n",
    "                nom_usina as nm_usina,\n",
    "                CAST(val_geracao as DECIMAL(10,2)) as vl_energiaGeradaMWmed\n",
    "            FROM tb_geracao_usina\n",
    "            WHERE id_estado = 'SP' AND val_geracao <> '0E-8' \n",
    "                    \"\"\")"
   ]
  },
  {
   "cell_type": "code",
   "execution_count": null,
   "metadata": {},
   "outputs": [],
   "source": [
    "path_gold = '../datasets/gold/'\n",
    "\n",
    "os.makedirs(path_gold, exist_ok=True)"
   ]
  },
  {
   "cell_type": "code",
   "execution_count": null,
   "metadata": {},
   "outputs": [],
   "source": [
    "df_tratado.toPandas().to_csv(f'{path_gold}/GERACAO_ENERGIA.csv')"
   ]
  },
  {
   "cell_type": "code",
   "execution_count": null,
   "metadata": {},
   "outputs": [],
   "source": [
    "spark.stop()"
   ]
  }
 ],
 "metadata": {
  "kernelspec": {
   "display_name": ".venv",
   "language": "python",
   "name": "python3"
  },
  "language_info": {
   "codemirror_mode": {
    "name": "ipython",
    "version": 3
   },
   "file_extension": ".py",
   "mimetype": "text/x-python",
   "name": "python",
   "nbconvert_exporter": "python",
   "pygments_lexer": "ipython3",
   "version": "3.10.12"
  }
 },
 "nbformat": 4,
 "nbformat_minor": 2
}
