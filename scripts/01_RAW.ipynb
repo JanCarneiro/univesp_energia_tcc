{
 "cells": [
  {
   "cell_type": "code",
   "execution_count": 3,
   "metadata": {},
   "outputs": [],
   "source": [
    "from datetime import date\n",
    "import requests\n",
    "import os"
   ]
  },
  {
   "cell_type": "code",
   "execution_count": 4,
   "metadata": {},
   "outputs": [],
   "source": [
    "def extract(url, url_bronze):\n",
    "\n",
    "    response = requests.get(url)\n",
    "\n",
    "    with open(url_bronze, 'wb') as f:\n",
    "        f.write(response.content)\n",
    "\n",
    "        print(f'Gerado arquivo {url_bronze}')"
   ]
  },
  {
   "cell_type": "code",
   "execution_count": 7,
   "metadata": {},
   "outputs": [],
   "source": [
    "def prepara_extracao(base_url,nm_base,ano_inicio, ano_fim, ano_mes = None):\n",
    "\n",
    "    url_arquivo = f'../datasets/bronze/{nm_base}'\n",
    "    os.makedirs(url_arquivo, exist_ok=True)\n",
    "    \n",
    "    for ano in range(ano_inicio,ano_fim+1):\n",
    "        \n",
    "        if ano_mes is None or ano < ano_mes:\n",
    "\n",
    "            url = f'{base_url}{ano}.parquet'\n",
    "            url_bronze = f'{url_arquivo}/{nm_base}_{ano}.parquet'\n",
    "            print(url)\n",
    "\n",
    "            extract(url,url_bronze)\n",
    "\n",
    "        else:\n",
    "            mes_atual = (date.today().month) + 1\n",
    "            mes_base = mes_atual if ano >= ano_fim else 13\n",
    "\n",
    "            for mes in range(1,mes_base):\n",
    "\n",
    "                mes = f'0{mes}' if mes < 10 else mes\n",
    "                \n",
    "                url = f'{base_url}{ano}_{mes}.parquet'\n",
    "                url_bronze = f'{url_arquivo}/{nm_base}_{ano}_{mes}.parquet'\n",
    "                print(url)\n",
    "\n",
    "                extract(url,url_bronze)"
   ]
  },
  {
   "cell_type": "code",
   "execution_count": null,
   "metadata": {},
   "outputs": [
    {
     "name": "stdout",
     "output_type": "stream",
     "text": [
      "https://ons-aws-prod-opendata.s3.amazonaws.com/dataset/geracao_usina_2_ho/GERACAO_USINA-2_2025_01.parquet\n",
      "Gerado arquivo ../datasets/bronze/GERACAO_USINA/GERACAO_USINA_2025_01.parquet\n",
      "https://ons-aws-prod-opendata.s3.amazonaws.com/dataset/geracao_usina_2_ho/GERACAO_USINA-2_2025_02.parquet\n",
      "Gerado arquivo ../datasets/bronze/GERACAO_USINA/GERACAO_USINA_2025_02.parquet\n",
      "https://ons-aws-prod-opendata.s3.amazonaws.com/dataset/geracao_usina_2_ho/GERACAO_USINA-2_2025_03.parquet\n",
      "Gerado arquivo ../datasets/bronze/GERACAO_USINA/GERACAO_USINA_2025_03.parquet\n"
     ]
    }
   ],
   "source": [
    "base_url = 'https://ons-aws-prod-opendata.s3.amazonaws.com/dataset/geracao_usina_2_ho/GERACAO_USINA-2_'\n",
    "\n",
    "nm_base = 'GERACAO_USINA'\n",
    "ano_inicio = 2004\n",
    "ano_fim = 2025\n",
    "ano_mes = 2022\n",
    "\n",
    "prepara_extracao(base_url,nm_base,ano_inicio,ano_fim,ano_mes)"
   ]
  }
 ],
 "metadata": {
  "kernelspec": {
   "display_name": ".venv",
   "language": "python",
   "name": "python3"
  },
  "language_info": {
   "codemirror_mode": {
    "name": "ipython",
    "version": 3
   },
   "file_extension": ".py",
   "mimetype": "text/x-python",
   "name": "python",
   "nbconvert_exporter": "python",
   "pygments_lexer": "ipython3",
   "version": "3.10.12"
  }
 },
 "nbformat": 4,
 "nbformat_minor": 2
}
