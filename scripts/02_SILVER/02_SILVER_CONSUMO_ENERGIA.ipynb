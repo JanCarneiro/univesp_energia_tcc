{
 "cells": [
  {
   "cell_type": "code",
   "execution_count": null,
   "metadata": {},
   "outputs": [],
   "source": [
    "%run \"/home/jan/Documentos/tcc/dependencias/funcoes_medalion.py\""
   ]
  },
  {
   "cell_type": "code",
   "execution_count": null,
   "metadata": {},
   "outputs": [],
   "source": [
    "%run \"/home/jan/Documentos/tcc/dependencias/conn_spark.py\"\n",
    "spark = cria_conn(\"silver\")"
   ]
  },
  {
   "cell_type": "code",
   "execution_count": null,
   "metadata": {},
   "outputs": [],
   "source": [
    "path = '/home/jan/Documentos/tcc/datasets/bronze/CONSUMO_ENERGIA/CONSUMO_ENERGIA.xlsx'\n",
    "tipo = ['CONSUMO POR UF','CONSUMO CATIVO POR UF','CONSUMO LIVRE POR UF','CONSUMO RESIDENCIAL POR UF',\n",
    "        'CONSUMO INDUSTRIAL POR UF','CONSUMO COMERCIAL POR UF','CONSUMO OUTROS POR UF','CONSUMIDORES RES. POR UF',\n",
    "        'CONSUMIDORES INDUSTRIAIS POR UF','CONSUMIDORES COMERCIAIS POR UF','CONSUMIDORES OUTROS POR UF',\n",
    "        'CONSUMIDORES CATIVOS POR UF','CONSUMIDORES LIVRES POR UF']\n",
    "\n",
    "for tipos in tipo:\n",
    "    extrai_bases_excel(tipos,path,spark)"
   ]
  },
  {
   "cell_type": "code",
   "execution_count": null,
   "metadata": {},
   "outputs": [],
   "source": [
    "spark.stop()"
   ]
  }
 ],
 "metadata": {
  "kernelspec": {
   "display_name": ".venv",
   "language": "python",
   "name": "python3"
  },
  "language_info": {
   "codemirror_mode": {
    "name": "ipython",
    "version": 3
   },
   "file_extension": ".py",
   "mimetype": "text/x-python",
   "name": "python",
   "nbconvert_exporter": "python",
   "pygments_lexer": "ipython3",
   "version": "3.10.12"
  }
 },
 "nbformat": 4,
 "nbformat_minor": 2
}
