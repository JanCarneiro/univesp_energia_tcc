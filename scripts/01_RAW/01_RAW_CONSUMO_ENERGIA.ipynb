{
 "cells": [
  {
   "cell_type": "code",
   "execution_count": null,
   "metadata": {},
   "outputs": [],
   "source": [
    "import requests\n",
    "import os"
   ]
  },
  {
   "cell_type": "code",
   "execution_count": null,
   "metadata": {},
   "outputs": [],
   "source": [
    "%run \"/home/jan/Documentos/tcc/dependencias/conn_spark.py\"\n",
    "spark = cria_conn(\"raw\")"
   ]
  },
  {
   "cell_type": "code",
   "execution_count": null,
   "metadata": {},
   "outputs": [],
   "source": [
    "nm_base = 'CONSUMO_ENERGIA'\n",
    "\n",
    "path_arquivo = f'https://www.epe.gov.br/sites-pt/publicacoes-dados-abertos/publicacoes/Documents/CONSUMO%20MENSAL%20DE%20ENERGIA%20EL%C3%89TRICA%20POR%20CLASSE.xlsx'\n",
    "path_bronze = f'/home/jan/Documentos/tcc/datasets/bronze/{nm_base}'\n",
    "\n",
    "os.makedirs(path_bronze, exist_ok=True)\n",
    "\n",
    "response = requests.get(path_arquivo)\n",
    "\n",
    "with open(f'{path_bronze}/{nm_base}.xlsx', 'wb') as f:\n",
    "    f.write(response.content)\n",
    "\n",
    "    print(f'Gerado arquivo {path_bronze}')"
   ]
  },
  {
   "cell_type": "code",
   "execution_count": null,
   "metadata": {},
   "outputs": [],
   "source": [
    "spark.stop()"
   ]
  }
 ],
 "metadata": {
  "kernelspec": {
   "display_name": ".venv",
   "language": "python",
   "name": "python3"
  },
  "language_info": {
   "codemirror_mode": {
    "name": "ipython",
    "version": 3
   },
   "file_extension": ".py",
   "mimetype": "text/x-python",
   "name": "python",
   "nbconvert_exporter": "python",
   "pygments_lexer": "ipython3",
   "version": "3.10.12"
  }
 },
 "nbformat": 4,
 "nbformat_minor": 2
}
