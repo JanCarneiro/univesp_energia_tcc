{
 "cells": [
  {
   "cell_type": "code",
   "execution_count": 7,
   "metadata": {},
   "outputs": [],
   "source": [
    "%run \"/home/jan/Documentos/tcc/dependencias/conn_api.py\""
   ]
  },
  {
   "cell_type": "code",
   "execution_count": 8,
   "metadata": {},
   "outputs": [],
   "source": [
    "creds = cria_token()\n",
    "access_token, refresh_token = get_token_from_json()"
   ]
  },
  {
   "cell_type": "code",
   "execution_count": 10,
   "metadata": {},
   "outputs": [
    {
     "name": "stdout",
     "output_type": "stream",
     "text": [
      "Atualizado arquivo GERACAO_ENERGIA\n",
      "Atualizado arquivo CARGA_ENERGIA\n"
     ]
    }
   ],
   "source": [
    "nm_base = ['GERACAO_ENERGIA', 'CARGA_ENERGIA']\n",
    "id_pasta = ['1sjk5kXCE4A2u3T-4bd3PcHVnFLQ8qG2n', '11w-T7ibaX4y8GM5tcEnLmuQpZPbYPyF3']\n",
    "\n",
    "for base, pasta in zip(nm_base, id_pasta):\n",
    "    base_path = f\"/home/jan/Documentos/tcc/datasets/gold/{base}.csv\"\n",
    "\n",
    "    insert_file_to_drive(base_path, pasta, base,creds)"
   ]
  }
 ],
 "metadata": {
  "kernelspec": {
   "display_name": ".venv",
   "language": "python",
   "name": "python3"
  },
  "language_info": {
   "codemirror_mode": {
    "name": "ipython",
    "version": 3
   },
   "file_extension": ".py",
   "mimetype": "text/x-python",
   "name": "python",
   "nbconvert_exporter": "python",
   "pygments_lexer": "ipython3",
   "version": "3.10.12"
  }
 },
 "nbformat": 4,
 "nbformat_minor": 2
}
