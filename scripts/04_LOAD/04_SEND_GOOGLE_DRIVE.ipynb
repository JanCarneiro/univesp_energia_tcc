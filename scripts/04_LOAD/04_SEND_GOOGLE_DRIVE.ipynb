{
 "cells": [
  {
   "cell_type": "code",
   "execution_count": null,
   "metadata": {},
   "outputs": [],
   "source": [
    "%run \"/home/jan/Documentos/tcc/dependencias/conn_api.py\""
   ]
  },
  {
   "cell_type": "code",
   "execution_count": null,
   "metadata": {},
   "outputs": [],
   "source": [
    "creds = cria_token()\n",
    "access_token, refresh_token = get_token_from_json()"
   ]
  },
  {
   "cell_type": "code",
   "execution_count": null,
   "metadata": {},
   "outputs": [],
   "source": [
    "nm_base = ['GERACAO_ENERGIA', 'GERACAO_ENERGIA_MAIOR_2015','GERACAO_ENERGIA_SUMARIZADO', 'CARGA_ENERGIA', 'CONSUMO_ENERGIA']\n",
    "id_pasta = {\n",
    "    'GERACAO_ENERGIA': ['1sjk5kXCE4A2u3T-4bd3PcHVnFLQ8qG2n'],\n",
    "    'GERACAO_ENERGIA_MAIOR_2015': ['1sjk5kXCE4A2u3T-4bd3PcHVnFLQ8qG2n'],\n",
    "    'GERACAO_ENERGIA_SUMARIZADO': ['1sjk5kXCE4A2u3T-4bd3PcHVnFLQ8qG2n'],\n",
    "    'CARGA_ENERGIA': ['11w-T7ibaX4y8GM5tcEnLmuQpZPbYPyF3'],\n",
    "    'CONSUMO_ENERGIA': ['1ac7XIl8tlTMZ-1SFZ0qnuCDDGvXBKjoJ']\n",
    "}\n",
    "\n",
    "for base in nm_base:\n",
    "    base_path = f\"/home/jan/Documentos/tcc/datasets/gold/{base}.csv\"\n",
    "    for pasta in id_pasta[base]:\n",
    "        insert_file_to_drive(base_path, pasta, base, creds)"
   ]
  }
 ],
 "metadata": {
  "kernelspec": {
   "display_name": ".venv",
   "language": "python",
   "name": "python3"
  },
  "language_info": {
   "codemirror_mode": {
    "name": "ipython",
    "version": 3
   },
   "file_extension": ".py",
   "mimetype": "text/x-python",
   "name": "python",
   "nbconvert_exporter": "python",
   "pygments_lexer": "ipython3",
   "version": "3.10.12"
  }
 },
 "nbformat": 4,
 "nbformat_minor": 2
}
