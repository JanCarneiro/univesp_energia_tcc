{
 "cells": [
  {
   "cell_type": "code",
   "execution_count": 2,
   "metadata": {},
   "outputs": [],
   "source": [
    "import os\n",
    "import pandas as pd\n",
    "import sys\n",
    "sys.path.append('../dependencias')\n",
    "\n",
    "from conn_spark import CriarConn"
   ]
  },
  {
   "cell_type": "code",
   "execution_count": 3,
   "metadata": {},
   "outputs": [
    {
     "name": "stderr",
     "output_type": "stream",
     "text": [
      "your 131072x1 screen size is bogus. expect trouble\n",
      "25/03/02 12:40:52 WARN Utils: Your hostname, DESKTOP-RE2QNUL resolves to a loopback address: 127.0.1.1; using 172.21.253.66 instead (on interface eth0)\n",
      "25/03/02 12:40:52 WARN Utils: Set SPARK_LOCAL_IP if you need to bind to another address\n",
      "Setting default log level to \"WARN\".\n",
      "To adjust logging level use sc.setLogLevel(newLevel). For SparkR, use setLogLevel(newLevel).\n",
      "25/03/02 12:40:54 WARN NativeCodeLoader: Unable to load native-hadoop library for your platform... using builtin-java classes where applicable\n"
     ]
    }
   ],
   "source": [
    "spark = CriarConn(name_app = \"raw\").cria_conn()"
   ]
  },
  {
   "cell_type": "code",
   "execution_count": 4,
   "metadata": {},
   "outputs": [
    {
     "name": "stderr",
     "output_type": "stream",
     "text": [
      "                                                                                \r"
     ]
    }
   ],
   "source": [
    "path_arquivo = f'../datasets/prata/GERACAO_USINA/GERACAO_USINA.parquet'\n",
    "df = spark.read.parquet(path_arquivo)"
   ]
  },
  {
   "cell_type": "code",
   "execution_count": 5,
   "metadata": {},
   "outputs": [],
   "source": [
    "df.createOrReplaceTempView(\"tb_geracao_usina\")"
   ]
  },
  {
   "cell_type": "code",
   "execution_count": 6,
   "metadata": {},
   "outputs": [
    {
     "name": "stderr",
     "output_type": "stream",
     "text": [
      "                                                                                \r"
     ]
    },
    {
     "name": "stdout",
     "output_type": "stream",
     "text": [
      "+-------------------+-------------+--------------+---------+----------+----------------------+-------------+-------------------+--------------------+------+--------------------+------------+\n",
      "|       din_instante|id_subsistema|nom_subsistema|id_estado|nom_estado|cod_modalidadeoperacao|nom_tipousina|nom_tipocombustivel|           nom_usina|id_ons|                 ceg| val_geracao|\n",
      "+-------------------+-------------+--------------+---------+----------+----------------------+-------------+-------------------+--------------------+------+--------------------+------------+\n",
      "|2020-12-31 21:00:00|            N|         NORTE|       AM|  AMAZONAS|                TIPO I|HIDROELÉTRICA|         Hidráulica|             Balbina|  AMBA|UHE.PH.AM.000190-...|106.55400000|\n",
      "|2020-12-31 21:00:00|            N|         NORTE|       AM|  AMAZONAS|              TIPO III|      TÉRMICA|   Óleo Combustível|            Electron| AMELC|UTE.PE.AM.027120-...|        0E-8|\n",
      "|2020-12-31 21:00:00|            N|         NORTE|       AM|  AMAZONAS|              TIPO III|      TÉRMICA|        Óleo Diesel|            Flores 3| AMFL3|UTE.PE.AM.029192-...|        0E-8|\n",
      "|2020-12-31 21:00:00|            N|         NORTE|       AM|  AMAZONAS|              TIPO III|      TÉRMICA|        Óleo Diesel|            Flores 4| AMFL4|UTE.PE.AM.029192-...|        0E-8|\n",
      "|2020-12-31 21:00:00|            N|         NORTE|       AM|  AMAZONAS|                TIPO I|      TÉRMICA|                Gás|           Aparecida|  AMAA|UTE.GN.AM.027250-...| 91.63000000|\n",
      "|2020-12-31 21:00:00|            N|         NORTE|       AM|  AMAZONAS|              TIPO III|      TÉRMICA|        Óleo Diesel|            Flores 1| AMFL1|UTE.PE.AM.029192-...|        0E-8|\n",
      "|2020-12-31 21:00:00|            N|         NORTE|       AM|  AMAZONAS|                TIPO I|      TÉRMICA|                Gás|        Mauá Bloco 4| AMMU4|UTE.PE.AM.002952-...|        0E-8|\n",
      "|2020-12-31 21:00:00|            N|         NORTE|       AM|  AMAZONAS|                TIPO I|      TÉRMICA|                Gás|              Mauá 3|  AMCM|UTE.GN.AM.031888-...|507.41700000|\n",
      "|2020-12-31 21:00:00|            N|         NORTE|       AM|  AMAZONAS|                TIPO I|      TÉRMICA|        Óleo Diesel|            Iranduba| AMIRD|UTE.PE.AM.030274-...|        0E-8|\n",
      "|2020-12-31 21:00:00|            N|         NORTE|       AM|  AMAZONAS|              TIPO III|      TÉRMICA|        Óleo Diesel|            Flores 2|AMTFL2|UTE.PE.AM.029192-...|        0E-8|\n",
      "|2020-12-31 21:00:00|            N|         NORTE|       AM|  AMAZONAS|                TIPO I|      TÉRMICA|                Gás|        Mauá Bloco 3| AMMU3|UTE.PE.AM.002952-...|        0E-8|\n",
      "|2020-12-31 21:00:00|            N|         NORTE|       AM|  AMAZONAS|                TIPO I|      TÉRMICA|                Gás|         Ponta Negra|AMUTPN|UTE.GN.AM.029361-...| 64.95000000|\n",
      "|2020-12-31 21:00:00|            N|         NORTE|       AM|  AMAZONAS|                TIPO I|      TÉRMICA|                Gás|            Tambaqui|  AMTA|UTE.PE.AM.029276-...| 61.75100000|\n",
      "|2020-12-31 21:00:00|            N|         NORTE|       AM|  AMAZONAS|                TIPO I|      TÉRMICA|                Gás|             Jaraqui|  AMJA|UTE.GN.AM.029272-...| 62.58000000|\n",
      "|2020-12-31 21:00:00|            N|         NORTE|       AM|  AMAZONAS|                TIPO I|      TÉRMICA|                Gás|     Cristiano Rocha|  AMCR|UTE.PE.AM.029499-...| 65.84200000|\n",
      "|2020-12-31 21:00:00|            N|         NORTE|       AM|  AMAZONAS|                TIPO I|      TÉRMICA|                Gás|            Manauara|  AMMA|UTE.GN.AM.029432-...| 66.87200000|\n",
      "|2020-12-31 21:00:00|            N|         NORTE|       AP|     AMAPA|                TIPO I|HIDROELÉTRICA|         Hidráulica|Santo Antônio do ...| APSAJ|UHE.PH.AP.026792-...| 86.02200000|\n",
      "|2020-12-31 21:00:00|            N|         NORTE|       AP|     AMAPA|                TIPO I|HIDROELÉTRICA|         Hidráulica| Cachoeira Caldeirão|APUCCA|UHE.PH.AP.031186-...| 55.44500000|\n",
      "|2020-12-31 21:00:00|            N|         NORTE|       AP|     AMAPA|                TIPO I|HIDROELÉTRICA|         Hidráulica|      Ferreira Gomes| APFGO|UHE.PH.AP.030385-...| 65.95800000|\n",
      "|2020-12-31 21:00:00|            N|         NORTE|       AP|     AMAPA|                TIPO I|HIDROELÉTRICA|         Hidráulica|       Coaracy Nunes|  APCN|UHE.PH.AP.000783-...| 72.28900000|\n",
      "+-------------------+-------------+--------------+---------+----------+----------------------+-------------+-------------------+--------------------+------+--------------------+------------+\n",
      "only showing top 20 rows\n",
      "\n"
     ]
    }
   ],
   "source": [
    "df.show()"
   ]
  },
  {
   "cell_type": "code",
   "execution_count": 7,
   "metadata": {},
   "outputs": [],
   "source": [
    "df_tratado = spark.sql(\"\"\"\n",
    "            SELECT \n",
    "                din_instante as dt_referencia,\n",
    "                id_subsistema as sigla_regiao,\n",
    "                nom_subsistema as nm_regiao,\n",
    "                id_estado as sigla_estado,\n",
    "                nom_estado as nm_estado,\n",
    "                nom_tipousina as nm_tipoUsina,\n",
    "                nom_tipocombustivel as nm_tipoCombustivel,\n",
    "                nom_usina as nm_usina,\n",
    "                CAST(val_geracao as DECIMAL(10,2)) as vl_energiaGeradaMWmed\n",
    "            FROM tb_geracao_usina\n",
    "            WHERE id_estado = 'SP' AND val_geracao <> '0E-8' \n",
    "                    \"\"\")"
   ]
  },
  {
   "cell_type": "code",
   "execution_count": 16,
   "metadata": {},
   "outputs": [],
   "source": [
    "df_sum_ano = spark.sql(\"\"\"\n",
    "            SELECT YEAR(dt_referencia),COUNT(*),MAX(vl_energiaGeradaMWmed), MIN(vl_energiaGeradaMWmed)\n",
    "            FROM(SELECT \n",
    "                din_instante as dt_referencia,\n",
    "                id_subsistema as sigla_regiao,\n",
    "                nom_subsistema as nm_regiao,\n",
    "                id_estado as sigla_estado,\n",
    "                nom_estado as nm_estado,\n",
    "                nom_tipousina as nm_tipoUsina,\n",
    "                nom_tipocombustivel as nm_tipoCombustivel,\n",
    "                nom_usina as nm_usina,\n",
    "                CAST(val_geracao as DECIMAL(10,2)) as vl_energiaGeradaMWmed\n",
    "            FROM tb_geracao_usina\n",
    "            WHERE id_estado = 'SP' AND val_geracao <> '0E-8') \n",
    "            GROUP BY ALL\n",
    "            ORDER BY 1 ASC\n",
    "                    \"\"\")"
   ]
  },
  {
   "cell_type": "code",
   "execution_count": 17,
   "metadata": {},
   "outputs": [],
   "source": [
    "df_sum_ano_mes = spark.sql(\"\"\"\n",
    "            SELECT \n",
    "                YEAR(dt_referencia) AS ano, \n",
    "                MONTH(dt_referencia) as mes,\n",
    "                COUNT(*) as total_registros,\n",
    "                MAX(vl_energiaGeradaMWmed) as max_energiaGeradaMWmed,\n",
    "                MIN(vl_energiaGeradaMWmed) as min_energiaGeradaMWmed\n",
    "            FROM(SELECT \n",
    "                din_instante as dt_referencia,\n",
    "                id_subsistema as sigla_regiao,\n",
    "                nom_subsistema as nm_regiao,\n",
    "                id_estado as sigla_estado,\n",
    "                nom_estado as nm_estado,\n",
    "                nom_tipousina as nm_tipoUsina,\n",
    "                nom_tipocombustivel as nm_tipoCombustivel,\n",
    "                nom_usina as nm_usina,\n",
    "                CAST(val_geracao as DECIMAL(10,2)) as vl_energiaGeradaMWmed\n",
    "            FROM tb_geracao_usina\n",
    "            WHERE id_estado = 'SP' AND val_geracao <> '0E-8') \n",
    "            GROUP BY ALL\n",
    "            ORDER BY 1,2 ASC\n",
    "                    \"\"\")"
   ]
  },
  {
   "cell_type": "code",
   "execution_count": 10,
   "metadata": {},
   "outputs": [],
   "source": [
    "path_gold = '../datasets/gold/'\n",
    "\n",
    "os.makedirs(path_gold, exist_ok=True)"
   ]
  },
  {
   "cell_type": "code",
   "execution_count": 11,
   "metadata": {},
   "outputs": [
    {
     "name": "stderr",
     "output_type": "stream",
     "text": [
      "                                                                                \r"
     ]
    }
   ],
   "source": [
    "df_tratado.toPandas().to_csv(f'{path_gold}/GERACAO_ENERGIA.csv')"
   ]
  },
  {
   "cell_type": "code",
   "execution_count": 18,
   "metadata": {},
   "outputs": [
    {
     "name": "stderr",
     "output_type": "stream",
     "text": [
      "                                                                                \r"
     ]
    }
   ],
   "source": [
    "df_sum_ano.toPandas().to_csv(f'{path_gold}/GERACAO_ENERGIA_ANO.csv')"
   ]
  },
  {
   "cell_type": "code",
   "execution_count": 19,
   "metadata": {},
   "outputs": [
    {
     "name": "stderr",
     "output_type": "stream",
     "text": [
      "                                                                                \r"
     ]
    }
   ],
   "source": [
    "df_sum_ano_mes.toPandas().to_csv(f'{path_gold}/GERACAO_ENERGIA_MES.csv')"
   ]
  },
  {
   "cell_type": "code",
   "execution_count": 21,
   "metadata": {},
   "outputs": [],
   "source": [
    "spark.stop()"
   ]
  }
 ],
 "metadata": {
  "kernelspec": {
   "display_name": ".venv",
   "language": "python",
   "name": "python3"
  },
  "language_info": {
   "codemirror_mode": {
    "name": "ipython",
    "version": 3
   },
   "file_extension": ".py",
   "mimetype": "text/x-python",
   "name": "python",
   "nbconvert_exporter": "python",
   "pygments_lexer": "ipython3",
   "version": "3.10.12"
  }
 },
 "nbformat": 4,
 "nbformat_minor": 2
}
