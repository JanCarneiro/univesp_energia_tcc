{
 "cells": [
  {
   "cell_type": "code",
   "execution_count": 2,
   "metadata": {},
   "outputs": [
    {
     "name": "stderr",
     "output_type": "stream",
     "text": [
      "your 131072x1 screen size is bogus. expect trouble\n",
      "25/03/04 15:07:34 WARN Utils: Your hostname, DESKTOP-RE2QNUL resolves to a loopback address: 127.0.1.1; using 172.21.253.66 instead (on interface eth0)\n",
      "25/03/04 15:07:34 WARN Utils: Set SPARK_LOCAL_IP if you need to bind to another address\n",
      "Setting default log level to \"WARN\".\n",
      "To adjust logging level use sc.setLogLevel(newLevel). For SparkR, use setLogLevel(newLevel).\n",
      "25/03/04 15:07:35 WARN NativeCodeLoader: Unable to load native-hadoop library for your platform... using builtin-java classes where applicable\n"
     ]
    }
   ],
   "source": [
    "%run \"/home/jan/Documentos/tcc/dependencias/conn_spark.py\"\n",
    "\n",
    "spark = cria_conn(\"raw\")"
   ]
  },
  {
   "cell_type": "code",
   "execution_count": null,
   "metadata": {},
   "outputs": [],
   "source": [
    "import os"
   ]
  },
  {
   "cell_type": "code",
   "execution_count": null,
   "metadata": {},
   "outputs": [],
   "source": [
    "def merge_files(base_url,nm_base):\n",
    "\n",
    "    path_arquivos = f'{base_url}{nm_base}'\n",
    "    path_prata = f'../datasets/prata/{nm_base}'\n",
    "\n",
    "    os.makedirs(path_prata, exist_ok=True)\n",
    "\n",
    "    df = [spark.read.parquet(f\"{path_arquivos}/{nm_file}\") for nm_file in os.listdir(path_arquivos)]\n",
    "    combined_df = df[0]\n",
    "    for df in df[1:]:\n",
    "        combined_df = combined_df.union(df)\n",
    "\n",
    "    combined_df.write.parquet(f\"{path_prata}/{nm_base}.parquet\", mode=\"overwrite\")\n",
    "    print(f\"Criado arquivo: {path_prata}/{nm_base}.parquet \")\n",
    "    return combined_df"
   ]
  },
  {
   "cell_type": "code",
   "execution_count": null,
   "metadata": {},
   "outputs": [],
   "source": [
    "base_url = f'../datasets/bronze/'\n",
    "nm_base = 'GERACAO_USINA'\n",
    "\n",
    "df = merge_files(base_url, nm_base)"
   ]
  },
  {
   "cell_type": "code",
   "execution_count": 3,
   "metadata": {},
   "outputs": [],
   "source": [
    "spark.stop()"
   ]
  }
 ],
 "metadata": {
  "kernelspec": {
   "display_name": ".venv",
   "language": "python",
   "name": "python3"
  },
  "language_info": {
   "codemirror_mode": {
    "name": "ipython",
    "version": 3
   },
   "file_extension": ".py",
   "mimetype": "text/x-python",
   "name": "python",
   "nbconvert_exporter": "python",
   "pygments_lexer": "ipython3",
   "version": "3.10.12"
  }
 },
 "nbformat": 4,
 "nbformat_minor": 2
}
