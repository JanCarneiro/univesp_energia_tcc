{
 "cells": [
  {
   "cell_type": "code",
   "execution_count": null,
   "metadata": {},
   "outputs": [],
   "source": [
    "import os\n",
    "import sys\n",
    "sys.path.append('../dependencias')\n",
    "\n",
    "from pyspark.sql import Row"
   ]
  },
  {
   "cell_type": "code",
   "execution_count": null,
   "metadata": {},
   "outputs": [],
   "source": [
    "from conn_spark import CriarConn\n",
    "spark = CriarConn(name_app = \"raw\").cria_conn()"
   ]
  },
  {
   "cell_type": "code",
   "execution_count": null,
   "metadata": {},
   "outputs": [],
   "source": [
    "def merge_files(base_url,nm_base):\n",
    "\n",
    "    path_arquivos = f'{base_url}{nm_base}'\n",
    "    path_prata = f'../datasets/prata/{nm_base}'\n",
    "\n",
    "    os.makedirs(path_prata, exist_ok=True)\n",
    "\n",
    "    df = [spark.read.parquet(f\"{path_arquivos}/{nm_file}\") for nm_file in os.listdir(path_arquivos)]\n",
    "    combined_df = df[0]\n",
    "    for df in df[1:]:\n",
    "        combined_df = combined_df.union(df)\n",
    "\n",
    "    combined_df.write.parquet(f\"{path_prata}/{nm_base}.parquet\", mode=\"overwrite\")\n",
    "    print(f\"Criado arquivo: {path_prata}/{nm_base}.parquet \")\n",
    "    return combined_df"
   ]
  },
  {
   "cell_type": "code",
   "execution_count": null,
   "metadata": {},
   "outputs": [],
   "source": [
    "base_url = f'../datasets/bronze/'\n",
    "nm_base = 'GERACAO_USINA'\n",
    "\n",
    "df = merge_files(base_url, nm_base)"
   ]
  },
  {
   "cell_type": "code",
   "execution_count": null,
   "metadata": {},
   "outputs": [],
   "source": [
    "spark.stop()"
   ]
  }
 ],
 "metadata": {
  "kernelspec": {
   "display_name": ".venv",
   "language": "python",
   "name": "python3"
  },
  "language_info": {
   "codemirror_mode": {
    "name": "ipython",
    "version": 3
   },
   "file_extension": ".py",
   "mimetype": "text/x-python",
   "name": "python",
   "nbconvert_exporter": "python",
   "pygments_lexer": "ipython3",
   "version": "3.10.12"
  }
 },
 "nbformat": 4,
 "nbformat_minor": 2
}
