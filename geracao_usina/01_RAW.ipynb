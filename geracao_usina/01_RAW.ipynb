{
 "cells": [
  {
   "cell_type": "code",
   "execution_count": null,
   "metadata": {},
   "outputs": [],
   "source": [
    "import requests"
   ]
  },
  {
   "cell_type": "code",
   "execution_count": null,
   "metadata": {},
   "outputs": [
    {
     "name": "stdout",
     "output_type": "stream",
     "text": [
      "Gerado arquivo ../datasets/bronze/GERACAO_USINA_2004.parquet\n",
      "Gerado arquivo ../datasets/bronze/GERACAO_USINA_2005.parquet\n",
      "Gerado arquivo ../datasets/bronze/GERACAO_USINA_2006.parquet\n",
      "Gerado arquivo ../datasets/bronze/GERACAO_USINA_2007.parquet\n",
      "Gerado arquivo ../datasets/bronze/GERACAO_USINA_2008.parquet\n",
      "Gerado arquivo ../datasets/bronze/GERACAO_USINA_2009.parquet\n",
      "Gerado arquivo ../datasets/bronze/GERACAO_USINA_2010.parquet\n",
      "Gerado arquivo ../datasets/bronze/GERACAO_USINA_2011.parquet\n",
      "Gerado arquivo ../datasets/bronze/GERACAO_USINA_2012.parquet\n",
      "Gerado arquivo ../datasets/bronze/GERACAO_USINA_2013.parquet\n",
      "Gerado arquivo ../datasets/bronze/GERACAO_USINA_2014.parquet\n",
      "Gerado arquivo ../datasets/bronze/GERACAO_USINA_2015.parquet\n",
      "Gerado arquivo ../datasets/bronze/GERACAO_USINA_2016.parquet\n",
      "Gerado arquivo ../datasets/bronze/GERACAO_USINA_2017.parquet\n",
      "Gerado arquivo ../datasets/bronze/GERACAO_USINA_2018.parquet\n",
      "Gerado arquivo ../datasets/bronze/GERACAO_USINA_2019.parquet\n",
      "Gerado arquivo ../datasets/bronze/GERACAO_USINA_2020.parquet\n",
      "Gerado arquivo ../datasets/bronze/GERACAO_USINA_2021.parquet\n",
      "Gerado arquivo ../datasets/bronze/GERACAO_USINA_2022_01.parquet\n",
      "Gerado arquivo ../datasets/bronze/GERACAO_USINA_2022_02.parquet\n",
      "Gerado arquivo ../datasets/bronze/GERACAO_USINA_2022_03.parquet\n",
      "Gerado arquivo ../datasets/bronze/GERACAO_USINA_2022_04.parquet\n",
      "Gerado arquivo ../datasets/bronze/GERACAO_USINA_2022_05.parquet\n",
      "Gerado arquivo ../datasets/bronze/GERACAO_USINA_2022_06.parquet\n",
      "Gerado arquivo ../datasets/bronze/GERACAO_USINA_2022_07.parquet\n",
      "Gerado arquivo ../datasets/bronze/GERACAO_USINA_2022_08.parquet\n",
      "Gerado arquivo ../datasets/bronze/GERACAO_USINA_2022_09.parquet\n",
      "Gerado arquivo ../datasets/bronze/GERACAO_USINA_2022_10.parquet\n",
      "Gerado arquivo ../datasets/bronze/GERACAO_USINA_2022_11.parquet\n",
      "Gerado arquivo ../datasets/bronze/GERACAO_USINA_2022_12.parquet\n",
      "Gerado arquivo ../datasets/bronze/GERACAO_USINA_2023_01.parquet\n",
      "Gerado arquivo ../datasets/bronze/GERACAO_USINA_2023_02.parquet\n",
      "Gerado arquivo ../datasets/bronze/GERACAO_USINA_2023_03.parquet\n",
      "Gerado arquivo ../datasets/bronze/GERACAO_USINA_2023_04.parquet\n",
      "Gerado arquivo ../datasets/bronze/GERACAO_USINA_2023_05.parquet\n",
      "Gerado arquivo ../datasets/bronze/GERACAO_USINA_2023_06.parquet\n",
      "Gerado arquivo ../datasets/bronze/GERACAO_USINA_2023_07.parquet\n",
      "Gerado arquivo ../datasets/bronze/GERACAO_USINA_2023_08.parquet\n",
      "Gerado arquivo ../datasets/bronze/GERACAO_USINA_2023_09.parquet\n",
      "Gerado arquivo ../datasets/bronze/GERACAO_USINA_2023_10.parquet\n",
      "Gerado arquivo ../datasets/bronze/GERACAO_USINA_2023_11.parquet\n",
      "Gerado arquivo ../datasets/bronze/GERACAO_USINA_2023_12.parquet\n",
      "Gerado arquivo ../datasets/bronze/GERACAO_USINA_2024_01.parquet\n",
      "Gerado arquivo ../datasets/bronze/GERACAO_USINA_2024_02.parquet\n",
      "Gerado arquivo ../datasets/bronze/GERACAO_USINA_2024_03.parquet\n",
      "Gerado arquivo ../datasets/bronze/GERACAO_USINA_2024_04.parquet\n",
      "Gerado arquivo ../datasets/bronze/GERACAO_USINA_2024_05.parquet\n",
      "Gerado arquivo ../datasets/bronze/GERACAO_USINA_2024_06.parquet\n",
      "Gerado arquivo ../datasets/bronze/GERACAO_USINA_2024_07.parquet\n",
      "Gerado arquivo ../datasets/bronze/GERACAO_USINA_2024_08.parquet\n",
      "Gerado arquivo ../datasets/bronze/GERACAO_USINA_2024_09.parquet\n",
      "Gerado arquivo ../datasets/bronze/GERACAO_USINA_2024_10.parquet\n",
      "Gerado arquivo ../datasets/bronze/GERACAO_USINA_2024_11.parquet\n",
      "Gerado arquivo ../datasets/bronze/GERACAO_USINA_2024_12.parquet\n",
      "Gerado arquivo ../datasets/bronze/GERACAO_USINA_2025_01.parquet\n",
      "Gerado arquivo ../datasets/bronze/GERACAO_USINA_2025_02.parquet\n"
     ]
    }
   ],
   "source": [
    "base_url = 'https://ons-aws-prod-opendata.s3.amazonaws.com/dataset/geracao_usina_2_ho/GERACAO_USINA-2_'\n",
    "\n",
    "for ano in range(2004,2026):\n",
    "\n",
    "    if ano < 2022:\n",
    "        url = f'{base_url}{ano}.parquet'\n",
    "\n",
    "        url_bronze = f'../datasets/bronze/GERACAO_USINA_{ano}.parquet'\n",
    "        response = requests.get(url)\n",
    "\n",
    "        with open(url_bronze, 'wb') as f:\n",
    "            f.write(response.content)\n",
    "\n",
    "        print(f'Gerado arquivo {url_bronze}')\n",
    "\n",
    "    else:\n",
    "        mes_base = 3 if ano >= 2025 else 13\n",
    "\n",
    "        for mes in range(1,mes_base):\n",
    "            if mes < 10:\n",
    "                mes = f'0{mes}'\n",
    "\n",
    "            url = f'{base_url}{ano}_{mes}.parquet'\n",
    "\n",
    "            url_bronze = f'../datasets/bronze/GERACAO_USINA_{ano}_{mes}.parquet'\n",
    "            response = requests.get(url)\n",
    "\n",
    "            with open(url_bronze, 'wb') as f:\n",
    "                f.write(response.content)\n",
    "\n",
    "            print(f'Gerado arquivo {url_bronze}')"
   ]
  }
 ],
 "metadata": {
  "kernelspec": {
   "display_name": ".venv",
   "language": "python",
   "name": "python3"
  },
  "language_info": {
   "codemirror_mode": {
    "name": "ipython",
    "version": 3
   },
   "file_extension": ".py",
   "mimetype": "text/x-python",
   "name": "python",
   "nbconvert_exporter": "python",
   "pygments_lexer": "ipython3",
   "version": "3.10.12"
  }
 },
 "nbformat": 4,
 "nbformat_minor": 2
}
